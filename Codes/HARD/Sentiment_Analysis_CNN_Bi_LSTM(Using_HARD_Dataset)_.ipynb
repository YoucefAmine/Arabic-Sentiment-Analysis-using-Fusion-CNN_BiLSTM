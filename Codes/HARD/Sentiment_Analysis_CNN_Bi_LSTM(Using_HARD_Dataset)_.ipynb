{
  "cells": [
    {
      "cell_type": "markdown",
      "metadata": {
        "id": "En5KcfQ977aF"
      },
      "source": [
        "**Importing the libraries needed** "
      ]
    },
    {
      "cell_type": "code",
      "source": [
        "import numpy as np\n",
        "import pandas as pd\n",
        "import time\n",
        "\n",
        "\n",
        "import matplotlib.pyplot as plt\n",
        "import seaborn as sns\n",
        "\n",
        "import re\n",
        "import string\n",
        "\n",
        "from sklearn.model_selection import train_test_split\n",
        "from sklearn.metrics import confusion_matrix, classification_report, accuracy_score\n",
        "\n",
        "import gensim\n",
        "from gensim.models import KeyedVectors\n",
        "\n",
        "from keras.preprocessing.text import Tokenizer\n",
        "from keras.preprocessing.sequence import pad_sequences\n",
        "\n",
        "import tensorflow as tf\n",
        "from keras.models import Sequential\n",
        "from tensorflow.keras.layers import SpatialDropout1D, Conv1D, Bidirectional, LSTM, Dense, Input, Dropout, GlobalMaxPooling1D\n",
        "from keras.layers.embeddings import Embedding\n",
        "from tensorflow.keras.callbacks import ModelCheckpoint, ReduceLROnPlateau, EarlyStopping\n",
        "from tensorflow.keras.optimizers import Adam\n",
        "\n",
        "import itertools\n",
        "from numpy import loadtxt\n",
        "from keras.models import load_model\n",
        "\n",
        "import warnings\n",
        "warnings.filterwarnings(\"ignore\")"
      ],
      "metadata": {
        "id": "UedihKbFaGRw"
      },
      "execution_count": 1,
      "outputs": []
    },
    {
      "cell_type": "markdown",
      "source": [
        "**Connecting to google drive**"
      ],
      "metadata": {
        "id": "xHYYJY5Eprjm"
      }
    },
    {
      "cell_type": "code",
      "source": [
        "from google.colab import drive\n",
        "drive.mount(\"/content/gdrive\")"
      ],
      "metadata": {
        "colab": {
          "base_uri": "https://localhost:8080/"
        },
        "id": "naII_z2LacpB",
        "outputId": "0c2ff3b5-f9ee-4f03-ba2c-ff6563d12204"
      },
      "execution_count": 2,
      "outputs": [
        {
          "output_type": "stream",
          "name": "stdout",
          "text": [
            "Mounted at /content/gdrive\n"
          ]
        }
      ]
    },
    {
      "cell_type": "markdown",
      "source": [
        " \n",
        "**Uploading the dataset**"
      ],
      "metadata": {
        "id": "BADzPl6RpzKe"
      }
    },
    {
      "cell_type": "code",
      "source": [
        "path_data = \"/content/gdrive/MyDrive/thesis/HARD.xlsx\"\n",
        "\n",
        "HARD = pd.read_excel(path_data)"
      ],
      "metadata": {
        "id": "dXhCSDNvbkkU"
      },
      "execution_count": 3,
      "outputs": []
    },
    {
      "cell_type": "code",
      "source": [
        "data = HARD"
      ],
      "metadata": {
        "id": "DKkvAv13el-g"
      },
      "execution_count": 4,
      "outputs": []
    },
    {
      "cell_type": "markdown",
      "source": [
        "**printing the first 3 rows of the data**"
      ],
      "metadata": {
        "id": "bJQzPQ_gp_O4"
      }
    },
    {
      "cell_type": "code",
      "source": [
        "data.head(3)"
      ],
      "metadata": {
        "colab": {
          "base_uri": "https://localhost:8080/",
          "height": 143
        },
        "id": "q7feEPcNf3r5",
        "outputId": "70e1a042-d527-4066-cab0-8368048bf52b"
      },
      "execution_count": 5,
      "outputs": [
        {
          "output_type": "execute_result",
          "data": {
            "text/plain": [
              "   no Hotel name  rating    user type                   room type  \\\n",
              "0   2    فندق 72       2  مسافر منفرد  غرفة ديلوكس مزدوجة أو توأم   \n",
              "1   3    فندق 72       5          زوج  غرفة ديلوكس مزدوجة أو توأم   \n",
              "2  16    فندق 72       5          زوج                           -   \n",
              "\n",
              "            nights                                             review  \n",
              "0  أقمت ليلة واحدة                  “ممتاز”. النظافة والطاقم متعاون.   \n",
              "1  أقمت ليلة واحدة  استثنائي. سهولة إنهاء المعاملة في الاستقبال. ل...  \n",
              "2      أقمت ليلتين  استثنائي. انصح بأختيار الاسويت و بالاخص غرفه ر...  "
            ],
            "text/html": [
              "\n",
              "  <div id=\"df-5a114455-d83c-4d22-9f44-90e756d41522\">\n",
              "    <div class=\"colab-df-container\">\n",
              "      <div>\n",
              "<style scoped>\n",
              "    .dataframe tbody tr th:only-of-type {\n",
              "        vertical-align: middle;\n",
              "    }\n",
              "\n",
              "    .dataframe tbody tr th {\n",
              "        vertical-align: top;\n",
              "    }\n",
              "\n",
              "    .dataframe thead th {\n",
              "        text-align: right;\n",
              "    }\n",
              "</style>\n",
              "<table border=\"1\" class=\"dataframe\">\n",
              "  <thead>\n",
              "    <tr style=\"text-align: right;\">\n",
              "      <th></th>\n",
              "      <th>no</th>\n",
              "      <th>Hotel name</th>\n",
              "      <th>rating</th>\n",
              "      <th>user type</th>\n",
              "      <th>room type</th>\n",
              "      <th>nights</th>\n",
              "      <th>review</th>\n",
              "    </tr>\n",
              "  </thead>\n",
              "  <tbody>\n",
              "    <tr>\n",
              "      <th>0</th>\n",
              "      <td>2</td>\n",
              "      <td>فندق 72</td>\n",
              "      <td>2</td>\n",
              "      <td>مسافر منفرد</td>\n",
              "      <td>غرفة ديلوكس مزدوجة أو توأم</td>\n",
              "      <td>أقمت ليلة واحدة</td>\n",
              "      <td>“ممتاز”. النظافة والطاقم متعاون.</td>\n",
              "    </tr>\n",
              "    <tr>\n",
              "      <th>1</th>\n",
              "      <td>3</td>\n",
              "      <td>فندق 72</td>\n",
              "      <td>5</td>\n",
              "      <td>زوج</td>\n",
              "      <td>غرفة ديلوكس مزدوجة أو توأم</td>\n",
              "      <td>أقمت ليلة واحدة</td>\n",
              "      <td>استثنائي. سهولة إنهاء المعاملة في الاستقبال. ل...</td>\n",
              "    </tr>\n",
              "    <tr>\n",
              "      <th>2</th>\n",
              "      <td>16</td>\n",
              "      <td>فندق 72</td>\n",
              "      <td>5</td>\n",
              "      <td>زوج</td>\n",
              "      <td>-</td>\n",
              "      <td>أقمت ليلتين</td>\n",
              "      <td>استثنائي. انصح بأختيار الاسويت و بالاخص غرفه ر...</td>\n",
              "    </tr>\n",
              "  </tbody>\n",
              "</table>\n",
              "</div>\n",
              "      <button class=\"colab-df-convert\" onclick=\"convertToInteractive('df-5a114455-d83c-4d22-9f44-90e756d41522')\"\n",
              "              title=\"Convert this dataframe to an interactive table.\"\n",
              "              style=\"display:none;\">\n",
              "        \n",
              "  <svg xmlns=\"http://www.w3.org/2000/svg\" height=\"24px\"viewBox=\"0 0 24 24\"\n",
              "       width=\"24px\">\n",
              "    <path d=\"M0 0h24v24H0V0z\" fill=\"none\"/>\n",
              "    <path d=\"M18.56 5.44l.94 2.06.94-2.06 2.06-.94-2.06-.94-.94-2.06-.94 2.06-2.06.94zm-11 1L8.5 8.5l.94-2.06 2.06-.94-2.06-.94L8.5 2.5l-.94 2.06-2.06.94zm10 10l.94 2.06.94-2.06 2.06-.94-2.06-.94-.94-2.06-.94 2.06-2.06.94z\"/><path d=\"M17.41 7.96l-1.37-1.37c-.4-.4-.92-.59-1.43-.59-.52 0-1.04.2-1.43.59L10.3 9.45l-7.72 7.72c-.78.78-.78 2.05 0 2.83L4 21.41c.39.39.9.59 1.41.59.51 0 1.02-.2 1.41-.59l7.78-7.78 2.81-2.81c.8-.78.8-2.07 0-2.86zM5.41 20L4 18.59l7.72-7.72 1.47 1.35L5.41 20z\"/>\n",
              "  </svg>\n",
              "      </button>\n",
              "      \n",
              "  <style>\n",
              "    .colab-df-container {\n",
              "      display:flex;\n",
              "      flex-wrap:wrap;\n",
              "      gap: 12px;\n",
              "    }\n",
              "\n",
              "    .colab-df-convert {\n",
              "      background-color: #E8F0FE;\n",
              "      border: none;\n",
              "      border-radius: 50%;\n",
              "      cursor: pointer;\n",
              "      display: none;\n",
              "      fill: #1967D2;\n",
              "      height: 32px;\n",
              "      padding: 0 0 0 0;\n",
              "      width: 32px;\n",
              "    }\n",
              "\n",
              "    .colab-df-convert:hover {\n",
              "      background-color: #E2EBFA;\n",
              "      box-shadow: 0px 1px 2px rgba(60, 64, 67, 0.3), 0px 1px 3px 1px rgba(60, 64, 67, 0.15);\n",
              "      fill: #174EA6;\n",
              "    }\n",
              "\n",
              "    [theme=dark] .colab-df-convert {\n",
              "      background-color: #3B4455;\n",
              "      fill: #D2E3FC;\n",
              "    }\n",
              "\n",
              "    [theme=dark] .colab-df-convert:hover {\n",
              "      background-color: #434B5C;\n",
              "      box-shadow: 0px 1px 3px 1px rgba(0, 0, 0, 0.15);\n",
              "      filter: drop-shadow(0px 1px 2px rgba(0, 0, 0, 0.3));\n",
              "      fill: #FFFFFF;\n",
              "    }\n",
              "  </style>\n",
              "\n",
              "      <script>\n",
              "        const buttonEl =\n",
              "          document.querySelector('#df-5a114455-d83c-4d22-9f44-90e756d41522 button.colab-df-convert');\n",
              "        buttonEl.style.display =\n",
              "          google.colab.kernel.accessAllowed ? 'block' : 'none';\n",
              "\n",
              "        async function convertToInteractive(key) {\n",
              "          const element = document.querySelector('#df-5a114455-d83c-4d22-9f44-90e756d41522');\n",
              "          const dataTable =\n",
              "            await google.colab.kernel.invokeFunction('convertToInteractive',\n",
              "                                                     [key], {});\n",
              "          if (!dataTable) return;\n",
              "\n",
              "          const docLinkHtml = 'Like what you see? Visit the ' +\n",
              "            '<a target=\"_blank\" href=https://colab.research.google.com/notebooks/data_table.ipynb>data table notebook</a>'\n",
              "            + ' to learn more about interactive tables.';\n",
              "          element.innerHTML = '';\n",
              "          dataTable['output_type'] = 'display_data';\n",
              "          await google.colab.output.renderOutput(dataTable, element);\n",
              "          const docLink = document.createElement('div');\n",
              "          docLink.innerHTML = docLinkHtml;\n",
              "          element.appendChild(docLink);\n",
              "        }\n",
              "      </script>\n",
              "    </div>\n",
              "  </div>\n",
              "  "
            ]
          },
          "metadata": {},
          "execution_count": 5
        }
      ]
    },
    {
      "cell_type": "markdown",
      "source": [
        "**printing the shape of the dataset nbr of row and columns**"
      ],
      "metadata": {
        "id": "VwXDd4oUqKZL"
      }
    },
    {
      "cell_type": "code",
      "source": [
        "print(\"Data contient {} lignes et {} colonnes.\".format(data.shape[0], data.shape[1]))"
      ],
      "metadata": {
        "colab": {
          "base_uri": "https://localhost:8080/"
        },
        "id": "MB8JS7NNtQpf",
        "outputId": "f665146d-2792-48e3-8597-8f9996950b77"
      },
      "execution_count": 6,
      "outputs": [
        {
          "output_type": "stream",
          "name": "stdout",
          "text": [
            "Data contient 105698 lignes et 7 colonnes.\n"
          ]
        }
      ]
    },
    {
      "cell_type": "markdown",
      "source": [
        " **printing the fiels with missed values**\n",
        "\n"
      ],
      "metadata": {
        "id": "HU9GqLArqYls"
      }
    },
    {
      "cell_type": "code",
      "source": [
        "data.isnull().sum()"
      ],
      "metadata": {
        "colab": {
          "base_uri": "https://localhost:8080/"
        },
        "id": "-ZY0H2oYtaBA",
        "outputId": "9af3d381-10dc-46d7-9750-b263a169b0e3"
      },
      "execution_count": 7,
      "outputs": [
        {
          "output_type": "execute_result",
          "data": {
            "text/plain": [
              "no            0\n",
              "Hotel name    0\n",
              "rating        0\n",
              "user type     0\n",
              "room type     0\n",
              "nights        0\n",
              "review        0\n",
              "dtype: int64"
            ]
          },
          "metadata": {},
          "execution_count": 7
        }
      ]
    },
    {
      "cell_type": "markdown",
      "source": [
        "**printing the number of the duplicated rows**"
      ],
      "metadata": {
        "id": "xzjbolY5qyrw"
      }
    },
    {
      "cell_type": "code",
      "source": [
        "print(\"On a  {} doublons dans Data.\".format(data.duplicated().sum()))"
      ],
      "metadata": {
        "colab": {
          "base_uri": "https://localhost:8080/"
        },
        "id": "pLckLWmUxZMM",
        "outputId": "5e8424d7-1070-443b-e28c-a3ec0ac65daa"
      },
      "execution_count": 8,
      "outputs": [
        {
          "output_type": "stream",
          "name": "stdout",
          "text": [
            "On a  0 doublons dans Data.\n"
          ]
        }
      ]
    },
    {
      "cell_type": "markdown",
      "source": [
        "**checking the types of the fiels in the data**"
      ],
      "metadata": {
        "id": "N9MMOuUlrAAm"
      }
    },
    {
      "cell_type": "code",
      "source": [
        "data.dtypes"
      ],
      "metadata": {
        "colab": {
          "base_uri": "https://localhost:8080/"
        },
        "id": "JKvnEbNDuMXH",
        "outputId": "186a2d5f-2ee1-4df1-ced6-bda6b43f2bac"
      },
      "execution_count": 9,
      "outputs": [
        {
          "output_type": "execute_result",
          "data": {
            "text/plain": [
              "no             int64\n",
              "Hotel name    object\n",
              "rating         int64\n",
              "user type     object\n",
              "room type     object\n",
              "nights        object\n",
              "review        object\n",
              "dtype: object"
            ]
          },
          "metadata": {},
          "execution_count": 9
        }
      ]
    },
    {
      "cell_type": "markdown",
      "source": [
        "**function for printing the pie**"
      ],
      "metadata": {
        "id": "8v0AK1OUrQGz"
      }
    },
    {
      "cell_type": "code",
      "source": [
        "def pie(data,col):\n",
        "    labels = data[col].value_counts().keys().tolist()\n",
        "    n = len(labels)\n",
        "    if n==2:\n",
        "        colors = ['#66b3ff', '#fb3999']\n",
        "    elif n==3:\n",
        "        colors = ['#66b3ff', '#fb3999', '#ffcc99']\n",
        "    elif n==4:\n",
        "        colors = ['#66b3ff', '#fb3999', '#ffcc99',\"#66f3ff\"]\n",
        "    elif n==5:\n",
        "        colors = ['#66b3ff', '#fb3999', '#ffcc99',\"#66f3ff\",'#adcc99']\n",
        "    elif n==6:\n",
        "        colors = ['#66b3ff', '#fb3999', '#ffcc99',\"#66f3ff\",'#adcc99',\"#db7f23\"]\n",
        "    \n",
        "    fig1, f1 = plt.subplots()\n",
        "    f1.pie(data[col].value_counts(), labels=labels, colors = colors, autopct='%1.1f%%',shadow=False, startangle=60) \n",
        "    f1.axis('equal')\n",
        "    plt.tight_layout()\n",
        "    plt.show()\n",
        "    \n",
        "def histo(data,col):\n",
        "    plt.figure(figsize = (10, 8))\n",
        "    sns.histplot(data=data, x=col, hue = data[col], fill=True)"
      ],
      "metadata": {
        "id": "NKsJG1v6xmwu"
      },
      "execution_count": 10,
      "outputs": []
    },
    {
      "cell_type": "markdown",
      "source": [
        "**Counting the % of each classe**"
      ],
      "metadata": {
        "id": "jsHaFYHdrrEr"
      }
    },
    {
      "cell_type": "code",
      "source": [
        "data.rating.value_counts(normalize = True)"
      ],
      "metadata": {
        "colab": {
          "base_uri": "https://localhost:8080/"
        },
        "id": "tp-nT2EBxmg5",
        "outputId": "4e3f1238-45e5-46e9-b5c5-6ddcd6a4e3ef"
      },
      "execution_count": 11,
      "outputs": [
        {
          "output_type": "execute_result",
          "data": {
            "text/plain": [
              "2    0.363933\n",
              "4    0.250241\n",
              "5    0.249759\n",
              "1    0.136067\n",
              "Name: rating, dtype: float64"
            ]
          },
          "metadata": {},
          "execution_count": 11
        }
      ]
    },
    {
      "cell_type": "markdown",
      "source": [
        "**Printing the distribution of the classes**"
      ],
      "metadata": {
        "id": "KGUDWDHGsLtZ"
      }
    },
    {
      "cell_type": "code",
      "source": [
        "pie(data, \"rating\")"
      ],
      "metadata": {
        "colab": {
          "base_uri": "https://localhost:8080/",
          "height": 297
        },
        "id": "MXfBwk6-xmZD",
        "outputId": "5a51a3c4-ccb2-4924-a20e-191f260bb57b"
      },
      "execution_count": 12,
      "outputs": [
        {
          "output_type": "display_data",
          "data": {
            "text/plain": [
              "<Figure size 432x288 with 1 Axes>"
            ],
            "image/png": "[encoded data removed]"
          },
          "metadata": {}
        }
      ]
    },
    {
      "cell_type": "markdown",
      "source": [
        "**Repartitionning the data to 2 classes**"
      ],
      "metadata": {
        "id": "sD2cvglIsYID"
      }
    },
    {
      "cell_type": "code",
      "source": [
        "positive_reviews = data[data[\"rating\"] > 3]\n",
        "positive_reviews[\"sentiment\"] = 1\n",
        "\n",
        "negative_reviews = data[data[\"rating\"] < 3]\n",
        "negative_reviews[\"sentiment\"] = 0\n",
        "\n",
        "data = pd.concat([positive_reviews, negative_reviews], ignore_index = True)"
      ],
      "metadata": {
        "id": "TjOxe2PsxmBA"
      },
      "execution_count": 13,
      "outputs": []
    },
    {
      "cell_type": "markdown",
      "source": [
        " **printing the number of rows in both classes**"
      ],
      "metadata": {
        "id": "MnnT6CsCs0xY"
      }
    },
    {
      "cell_type": "code",
      "source": [
        "print(\"data contient {} lignes.\".format(data.shape[0]))\n",
        "\n",
        "print(\"Positive_reviews contient {} lignes.\".format(positive_reviews.shape[0]))\n",
        "\n",
        "print(\"Negative_reviews contient {} lignes.\".format(negative_reviews.shape[0]))"
      ],
      "metadata": {
        "colab": {
          "base_uri": "https://localhost:8080/"
        },
        "id": "ISL6bmS9xl9g",
        "outputId": "5d3f23ce-05c2-4a3d-f5c3-d7aedf60e63b"
      },
      "execution_count": 14,
      "outputs": [
        {
          "output_type": "stream",
          "name": "stdout",
          "text": [
            "data contient 105698 lignes.\n",
            "Positive_reviews contient 52849 lignes.\n",
            "Negative_reviews contient 52849 lignes.\n"
          ]
        }
      ]
    },
    {
      "cell_type": "markdown",
      "source": [
        "**printing the new distribution of the data**"
      ],
      "metadata": {
        "id": "sfD_QN9CtCkF"
      }
    },
    {
      "cell_type": "code",
      "source": [
        "pie(data,\"sentiment\")"
      ],
      "metadata": {
        "colab": {
          "base_uri": "https://localhost:8080/",
          "height": 297
        },
        "id": "Qxc3A0_DyACU",
        "outputId": "5b90d3e2-e341-4075-e34e-91f629b65d44"
      },
      "execution_count": 15,
      "outputs": [
        {
          "output_type": "display_data",
          "data": {
            "text/plain": [
              "<Figure size 432x288 with 1 Axes>"
            ],
            "image/png": "[encoded data removed]"
          },
          "metadata": {}
        }
      ]
    },
    {
      "cell_type": "markdown",
      "source": [
        "**printing the new distribution in histogramme**"
      ],
      "metadata": {
        "id": "2EV8czwetXVv"
      }
    },
    {
      "cell_type": "code",
      "source": [
        "histo(data,\"sentiment\")"
      ],
      "metadata": {
        "colab": {
          "base_uri": "https://localhost:8080/",
          "height": 497
        },
        "id": "OrFZzbW4x_-6",
        "outputId": "38e5cdf8-6164-4bbc-b6e3-a31d2daf4463"
      },
      "execution_count": 16,
      "outputs": [
        {
          "output_type": "display_data",
          "data": {
            "text/plain": [
              "<Figure size 720x576 with 1 Axes>"
            ],
            "image/png": "[encoded data removed]"
          },
          "metadata": {
            "needs_background": "light"
          }
        }
      ]
    },
    {
      "cell_type": "markdown",
      "source": [
        "**function to count the length of reviews**\n",
        "\n"
      ],
      "metadata": {
        "id": "aQPXSoQQtxC-"
      }
    },
    {
      "cell_type": "code",
      "source": [
        "def compte_mots(phrase):\n",
        "    return len(phrase.split())\n",
        "\n",
        "data[\"len_review\"] = data[\"review\"].apply(compte_mots)\n",
        "positive_reviews['len_review'] = positive_reviews[\"review\"].apply(compte_mots)\n",
        "negative_reviews['len_review'] = negative_reviews[\"review\"].apply(compte_mots)"
      ],
      "metadata": {
        "id": "HdnqI69vx_7F"
      },
      "execution_count": 17,
      "outputs": []
    },
    {
      "cell_type": "markdown",
      "source": [
        "**printing the max  length of the positive and negative reviews**"
      ],
      "metadata": {
        "id": "s0gPiiV7uE5T"
      }
    },
    {
      "cell_type": "code",
      "source": [
        "print(\"Le maximum de mots utilisé dans les reviews positives est :\", max(positive_reviews.len_review))\n",
        "print(\"Le moyen de mots utilisé dans les reviews positives est :\", np.mean(positive_reviews.len_review))\n",
        "print(\"-------------------------------------------------------------------------------------------------------\")\n",
        "print(\"Le maximum de mots utilisé dans les reviews négatives est :\", max(negative_reviews.len_review))\n",
        "print(\"Le moyen de mots utilisé dans les reviews négatives est :\", np.mean(negative_reviews.len_review))"
      ],
      "metadata": {
        "colab": {
          "base_uri": "https://localhost:8080/"
        },
        "id": "RUOg19_jx_28",
        "outputId": "e5a2f96b-02e5-4344-938b-1cf93b194285"
      },
      "execution_count": 18,
      "outputs": [
        {
          "output_type": "stream",
          "name": "stdout",
          "text": [
            "Le maximum de mots utilisé dans les reviews positives est : 570\n",
            "Le moyen de mots utilisé dans les reviews positives est : 19.829703494862724\n",
            "-------------------------------------------------------------------------------------------------------\n",
            "Le maximum de mots utilisé dans les reviews négatives est : 614\n",
            "Le moyen de mots utilisé dans les reviews négatives est : 28.094722700524134\n"
          ]
        }
      ]
    },
    {
      "cell_type": "code",
      "source": [
        "plt.figure(figsize=(10,9))\n",
        "\n",
        "p1=sns.kdeplot(positive_reviews['len_review'], hue = data['sentiment'],  shade=True, color=\"r\")\n",
        "p1=sns.kdeplot(negative_reviews['len_review'], shade=True, color=\"b\")\n",
        "\n",
        "plt.xlim(0, 200)"
      ],
      "metadata": {
        "colab": {
          "base_uri": "https://localhost:8080/",
          "height": 569
        },
        "id": "zoWA0F5Ox_yo",
        "outputId": "8c73c0f3-d716-4e90-bf9e-5bad725d96e6"
      },
      "execution_count": 19,
      "outputs": [
        {
          "output_type": "execute_result",
          "data": {
            "text/plain": [
              "(0.0, 200.0)"
            ]
          },
          "metadata": {},
          "execution_count": 19
        },
        {
          "output_type": "display_data",
          "data": {
            "text/plain": [
              "<Figure size 720x648 with 1 Axes>"
            ],
            "image/png": "[encoded data removed]"
          },
          "metadata": {
            "needs_background": "light"
          }
        }
      ]
    },
    {
      "cell_type": "markdown",
      "source": [
        "**Deleting unused fields**"
      ],
      "metadata": {
        "id": "JizLU3m4vwvB"
      }
    },
    {
      "cell_type": "code",
      "source": [
        "data.drop(['no','Hotel name','rating','user type','room type','nights'], axis = 1, inplace = True)\n",
        "data.head(3)"
      ],
      "metadata": {
        "colab": {
          "base_uri": "https://localhost:8080/",
          "height": 143
        },
        "id": "3sSAEvcKx_vr",
        "outputId": "b887edd8-1c47-4c87-9349-3b299f13420b"
      },
      "execution_count": 20,
      "outputs": [
        {
          "output_type": "execute_result",
          "data": {
            "text/plain": [
              "                                              review  sentiment  len_review\n",
              "0  استثنائي. سهولة إنهاء المعاملة في الاستقبال. ل...          1           7\n",
              "1  استثنائي. انصح بأختيار الاسويت و بالاخص غرفه ر...          1          11\n",
              "2  جيد. المكان جميل وهاديء. كل شي جيد ونظيف بس كا...          1          23"
            ],
            "text/html": [
              "\n",
              "  <div id=\"df-48c01009-e16f-4aae-94eb-67aae0b3da79\">\n",
              "    <div class=\"colab-df-container\">\n",
              "      <div>\n",
              "<style scoped>\n",
              "    .dataframe tbody tr th:only-of-type {\n",
              "        vertical-align: middle;\n",
              "    }\n",
              "\n",
              "    .dataframe tbody tr th {\n",
              "        vertical-align: top;\n",
              "    }\n",
              "\n",
              "    .dataframe thead th {\n",
              "        text-align: right;\n",
              "    }\n",
              "</style>\n",
              "<table border=\"1\" class=\"dataframe\">\n",
              "  <thead>\n",
              "    <tr style=\"text-align: right;\">\n",
              "      <th></th>\n",
              "      <th>review</th>\n",
              "      <th>sentiment</th>\n",
              "      <th>len_review</th>\n",
              "    </tr>\n",
              "  </thead>\n",
              "  <tbody>\n",
              "    <tr>\n",
              "      <th>0</th>\n",
              "      <td>استثنائي. سهولة إنهاء المعاملة في الاستقبال. ل...</td>\n",
              "      <td>1</td>\n",
              "      <td>7</td>\n",
              "    </tr>\n",
              "    <tr>\n",
              "      <th>1</th>\n",
              "      <td>استثنائي. انصح بأختيار الاسويت و بالاخص غرفه ر...</td>\n",
              "      <td>1</td>\n",
              "      <td>11</td>\n",
              "    </tr>\n",
              "    <tr>\n",
              "      <th>2</th>\n",
              "      <td>جيد. المكان جميل وهاديء. كل شي جيد ونظيف بس كا...</td>\n",
              "      <td>1</td>\n",
              "      <td>23</td>\n",
              "    </tr>\n",
              "  </tbody>\n",
              "</table>\n",
              "</div>\n",
              "      <button class=\"colab-df-convert\" onclick=\"convertToInteractive('df-48c01009-e16f-4aae-94eb-67aae0b3da79')\"\n",
              "              title=\"Convert this dataframe to an interactive table.\"\n",
              "              style=\"display:none;\">\n",
              "        \n",
              "  <svg xmlns=\"http://www.w3.org/2000/svg\" height=\"24px\"viewBox=\"0 0 24 24\"\n",
              "       width=\"24px\">\n",
              "    <path d=\"M0 0h24v24H0V0z\" fill=\"none\"/>\n",
              "    <path d=\"M18.56 5.44l.94 2.06.94-2.06 2.06-.94-2.06-.94-.94-2.06-.94 2.06-2.06.94zm-11 1L8.5 8.5l.94-2.06 2.06-.94-2.06-.94L8.5 2.5l-.94 2.06-2.06.94zm10 10l.94 2.06.94-2.06 2.06-.94-2.06-.94-.94-2.06-.94 2.06-2.06.94z\"/><path d=\"M17.41 7.96l-1.37-1.37c-.4-.4-.92-.59-1.43-.59-.52 0-1.04.2-1.43.59L10.3 9.45l-7.72 7.72c-.78.78-.78 2.05 0 2.83L4 21.41c.39.39.9.59 1.41.59.51 0 1.02-.2 1.41-.59l7.78-7.78 2.81-2.81c.8-.78.8-2.07 0-2.86zM5.41 20L4 18.59l7.72-7.72 1.47 1.35L5.41 20z\"/>\n",
              "  </svg>\n",
              "      </button>\n",
              "      \n",
              "  <style>\n",
              "    .colab-df-container {\n",
              "      display:flex;\n",
              "      flex-wrap:wrap;\n",
              "      gap: 12px;\n",
              "    }\n",
              "\n",
              "    .colab-df-convert {\n",
              "      background-color: #E8F0FE;\n",
              "      border: none;\n",
              "      border-radius: 50%;\n",
              "      cursor: pointer;\n",
              "      display: none;\n",
              "      fill: #1967D2;\n",
              "      height: 32px;\n",
              "      padding: 0 0 0 0;\n",
              "      width: 32px;\n",
              "    }\n",
              "\n",
              "    .colab-df-convert:hover {\n",
              "      background-color: #E2EBFA;\n",
              "      box-shadow: 0px 1px 2px rgba(60, 64, 67, 0.3), 0px 1px 3px 1px rgba(60, 64, 67, 0.15);\n",
              "      fill: #174EA6;\n",
              "    }\n",
              "\n",
              "    [theme=dark] .colab-df-convert {\n",
              "      background-color: #3B4455;\n",
              "      fill: #D2E3FC;\n",
              "    }\n",
              "\n",
              "    [theme=dark] .colab-df-convert:hover {\n",
              "      background-color: #434B5C;\n",
              "      box-shadow: 0px 1px 3px 1px rgba(0, 0, 0, 0.15);\n",
              "      filter: drop-shadow(0px 1px 2px rgba(0, 0, 0, 0.3));\n",
              "      fill: #FFFFFF;\n",
              "    }\n",
              "  </style>\n",
              "\n",
              "      <script>\n",
              "        const buttonEl =\n",
              "          document.querySelector('#df-48c01009-e16f-4aae-94eb-67aae0b3da79 button.colab-df-convert');\n",
              "        buttonEl.style.display =\n",
              "          google.colab.kernel.accessAllowed ? 'block' : 'none';\n",
              "\n",
              "        async function convertToInteractive(key) {\n",
              "          const element = document.querySelector('#df-48c01009-e16f-4aae-94eb-67aae0b3da79');\n",
              "          const dataTable =\n",
              "            await google.colab.kernel.invokeFunction('convertToInteractive',\n",
              "                                                     [key], {});\n",
              "          if (!dataTable) return;\n",
              "\n",
              "          const docLinkHtml = 'Like what you see? Visit the ' +\n",
              "            '<a target=\"_blank\" href=https://colab.research.google.com/notebooks/data_table.ipynb>data table notebook</a>'\n",
              "            + ' to learn more about interactive tables.';\n",
              "          element.innerHTML = '';\n",
              "          dataTable['output_type'] = 'display_data';\n",
              "          await google.colab.output.renderOutput(dataTable, element);\n",
              "          const docLink = document.createElement('div');\n",
              "          docLink.innerHTML = docLinkHtml;\n",
              "          element.appendChild(docLink);\n",
              "        }\n",
              "      </script>\n",
              "    </div>\n",
              "  </div>\n",
              "  "
            ]
          },
          "metadata": {},
          "execution_count": 20
        }
      ]
    },
    {
      "cell_type": "code",
      "source": [
        "df = data"
      ],
      "metadata": {
        "id": "EG7TlnWAxl4p"
      },
      "execution_count": 21,
      "outputs": []
    },
    {
      "cell_type": "markdown",
      "source": [
        "**the function of the preprocessing**"
      ],
      "metadata": {
        "id": "zt-HChYHv6oR"
      }
    },
    {
      "cell_type": "code",
      "source": [
        "def preprocessing(x):\n",
        "    x = re.sub('@[^\\s]+', ' ', x)\n",
        "    x = re.sub('((www\\.[^\\s]+)|(https?://[^\\s]+))',' ',x)\n",
        "    \n",
        "    emoji_pattern = re.compile(\"[\"\n",
        "                               u\"\\U0001F600-\\U0001F64F\"  # emoticons\n",
        "                               u\"\\U0001F300-\\U0001F5FF\"  # symbols & pictographs\n",
        "                               u\"\\U0001F680-\\U0001F6FF\"  # transport & map symbols\n",
        "                               u\"\\U0001F1E0-\\U0001F1FF\"  # flags (iOS)\n",
        "                               u\"\\U00002500-\\U00002BEF\"  # chinese char\n",
        "                               u\"\\U00002702-\\U000027B0\"\n",
        "                               u\"\\U00002702-\\U000027B0\"\n",
        "                               u\"\\U000024C2-\\U0001F251\"\n",
        "                               u\"\\U0001f926-\\U0001f937\"\n",
        "                               u\"\\U00010000-\\U0010ffff\"\n",
        "                               u\"\\u2640-\\u2642\"\n",
        "                               u\"\\u2600-\\u2B55\"\n",
        "                               u\"\\u200d\"\n",
        "                               u\"\\u23cf\"\n",
        "                               u\"\\u23e9\"\n",
        "                               u\"\\u231a\"\n",
        "                               u\"\\ufe0f\"  # dingbats\n",
        "                               u\"\\u3030\"\"]+\", flags=re.UNICODE)\n",
        "    emoji_pattern.sub(r'', x)\n",
        "    \n",
        "    ar_punctuations = '''`÷×؛<>_()*&^%][ـ،/:\"؟.,'{}~¦+|!”…“–ـ#'''\n",
        "    en_punctuations = string.punctuation\n",
        "    punctuations = ar_punctuations + en_punctuations\n",
        "    x = x.translate(str.maketrans('', '', punctuations))\n",
        " \n",
        "    arabic_diacritics = re.compile(\"\"\" ّ    | # Tashdid\n",
        "                             َ    | # Fatha\n",
        "                             ً    | # Tanwin Fath\n",
        "                             ُ    | # Damma\n",
        "                             ٌ    | # Tanwin Damm\n",
        "                             ِ    | # Kasra\n",
        "                             ٍ    | # Tanwin Kasr\n",
        "                             ْ    | # Sukun\n",
        "                             ـ     # Tatwil/Kashida\n",
        "                         \"\"\", re.VERBOSE)\n",
        "    x = re.sub(arabic_diacritics, '', str(x)) \n",
        "    \n",
        "#     x = re.sub(\"[إأآا]\", \"ا\", x)\n",
        "#     x = re.sub(\"ى\", \"ي\", x)\n",
        "#     x = re.sub(\"ة\", \"ه\", x)\n",
        "#     x = re.sub(\"گ\", \"ك\", x)\n",
        "#     x = re.sub(r'(.)\\1+', r'\\1', x)\n",
        "    \n",
        "    return x\n",
        "\n"
      ],
      "metadata": {
        "id": "S06YfDBayo2C"
      },
      "execution_count": 22,
      "outputs": []
    },
    {
      "cell_type": "markdown",
      "source": [
        "**preprocessing the reviews and printing the time spent**"
      ],
      "metadata": {
        "id": "-TA69444wCTs"
      }
    },
    {
      "cell_type": "code",
      "source": [
        "%%time\n",
        "data[\"Clean_reviews\"] = data.review.apply(lambda x: preprocessing(x))"
      ],
      "metadata": {
        "colab": {
          "base_uri": "https://localhost:8080/"
        },
        "id": "dCa_gwMYyovM",
        "outputId": "5572676d-2802-4353-d780-03cefe4e4cd5"
      },
      "execution_count": 23,
      "outputs": [
        {
          "output_type": "stream",
          "name": "stdout",
          "text": [
            "CPU times: user 3.07 s, sys: 24.6 ms, total: 3.1 s\n",
            "Wall time: 3.11 s\n"
          ]
        }
      ]
    },
    {
      "cell_type": "markdown",
      "source": [
        "**printing a review before and after preprocessing**"
      ],
      "metadata": {
        "id": "EYqZdx-hwMJc"
      }
    },
    {
      "cell_type": "code",
      "source": [
        "print('- Avant le prétraitement \\n\\n',data[\"review\"][4])\n",
        "print(\"\\n-----------------------------------------------\\n\")\n",
        "print('- Après le prétraitement \\n\\n',data[\"Clean_reviews\"][4])"
      ],
      "metadata": {
        "colab": {
          "base_uri": "https://localhost:8080/"
        },
        "id": "uYBIFXA_yorI",
        "outputId": "b04c9c46-2235-4a48-ec98-5c3f1f72c543"
      },
      "execution_count": 24,
      "outputs": [
        {
          "output_type": "stream",
          "name": "stdout",
          "text": [
            "- Avant le prétraitement \n",
            "\n",
            " “جيدجداً”. الافطار جيد والسرير ممتاز ومريح واطلالة الغرفة رائعه. فرش ارضية الغرفه\n",
            "\n",
            "-----------------------------------------------\n",
            "\n",
            "- Après le prétraitement \n",
            "\n",
            " جيدجدا الافطار جيد والسرير ممتاز ومريح واطلالة الغرفة رائعه فرش ارضية الغرفه\n"
          ]
        }
      ]
    },
    {
      "cell_type": "markdown",
      "source": [
        "**Saving the cleaned data in a csv file**"
      ],
      "metadata": {
        "id": "3Vzp8SzAwVT0"
      }
    },
    {
      "cell_type": "code",
      "source": [
        "data.to_csv(\"cleaned_hard.csv\")"
      ],
      "metadata": {
        "id": "QRxgl3Mdyom2"
      },
      "execution_count": 25,
      "outputs": []
    },
    {
      "cell_type": "markdown",
      "source": [
        "**asigning the reviews and classes to a new variables**\n",
        "\n",
        "\n"
      ],
      "metadata": {
        "id": "-gaLBhEqxFm4"
      }
    },
    {
      "cell_type": "code",
      "source": [
        "X = data.Clean_reviews\n",
        "y = data.sentiment"
      ],
      "metadata": {
        "id": "WpJPNTiJyojS"
      },
      "execution_count": 26,
      "outputs": []
    },
    {
      "cell_type": "markdown",
      "source": [
        "**spliting the data to train and test set**\n",
        "\n"
      ],
      "metadata": {
        "id": "P4WSBjAMykJ9"
      }
    },
    {
      "cell_type": "code",
      "source": [
        "X_train, X_test, y_train, y_test = train_test_split(X, \n",
        "                                                    y, \n",
        "                                                    test_size = 0.20, \n",
        "                                                    random_state = 42)"
      ],
      "metadata": {
        "id": "bpZ_HWVHyoe7"
      },
      "execution_count": 27,
      "outputs": []
    },
    {
      "cell_type": "markdown",
      "source": [
        "**printing the number of the train set and the test set**"
      ],
      "metadata": {
        "id": "Y4HZcNovzTam"
      }
    },
    {
      "cell_type": "code",
      "source": [
        "print('Train set', X_train.shape)\n",
        "print('Test set', X_test.shape)"
      ],
      "metadata": {
        "colab": {
          "base_uri": "https://localhost:8080/"
        },
        "id": "pc1SqlVHyoaS",
        "outputId": "53b7eec2-46f2-400a-ae27-287ae91da22b"
      },
      "execution_count": 28,
      "outputs": [
        {
          "output_type": "stream",
          "name": "stdout",
          "text": [
            "Train set (84558,)\n",
            "Test set (21140,)\n"
          ]
        }
      ]
    },
    {
      "cell_type": "code",
      "source": [
        "from google.colab import drive\n",
        "drive.mount('/content/gdrive')"
      ],
      "metadata": {
        "colab": {
          "base_uri": "https://localhost:8080/"
        },
        "id": "15X3aM6qgDm3",
        "outputId": "4c526412-ca40-4268-ff0b-f6dc28c4a6f2"
      },
      "execution_count": 29,
      "outputs": [
        {
          "output_type": "stream",
          "name": "stdout",
          "text": [
            "Drive already mounted at /content/gdrive; to attempt to forcibly remount, call drive.mount(\"/content/gdrive\", force_remount=True).\n"
          ]
        }
      ]
    },
    {
      "cell_type": "markdown",
      "source": [
        "**Uploading the fsttext pretrained word embedding with 150 dimension**"
      ],
      "metadata": {
        "id": "cI8tRb3Nz5aR"
      }
    },
    {
      "cell_type": "code",
      "source": [
        "%%time\n",
        "target_word_vec = KeyedVectors.load_word2vec_format(\"/content/gdrive/MyDrive/thesis/cc.ar.150.vec\", binary = False)"
      ],
      "metadata": {
        "colab": {
          "base_uri": "https://localhost:8080/"
        },
        "id": "sJ3CP3XulykU",
        "outputId": "ac8c9b75-c8ff-42c6-bee6-b32fc562b31f"
      },
      "execution_count": 30,
      "outputs": [
        {
          "output_type": "stream",
          "name": "stdout",
          "text": [
            "CPU times: user 2min 28s, sys: 4.14 s, total: 2min 33s\n",
            "Wall time: 3min 1s\n"
          ]
        }
      ]
    },
    {
      "cell_type": "markdown",
      "source": [
        "**tokenization of the reviews**"
      ],
      "metadata": {
        "id": "-pQIBI1c0OBw"
      }
    },
    {
      "cell_type": "code",
      "source": [
        "%%time\n",
        "tokenizer = Tokenizer()\n",
        "tokenizer.fit_on_texts(X_train)"
      ],
      "metadata": {
        "id": "fXkSR3KGyoNv",
        "colab": {
          "base_uri": "https://localhost:8080/"
        },
        "outputId": "d57a7d40-7e6f-4dc6-f7a8-2f08a36cd1d3"
      },
      "execution_count": 31,
      "outputs": [
        {
          "output_type": "stream",
          "name": "stdout",
          "text": [
            "CPU times: user 3 s, sys: 34 ms, total: 3.03 s\n",
            "Wall time: 3.04 s\n"
          ]
        }
      ]
    },
    {
      "cell_type": "code",
      "source": [
        "word_index = tokenizer.word_index\n",
        "vocab_size = len(tokenizer.word_index) + 1"
      ],
      "metadata": {
        "id": "L7UW4cKKyoKw"
      },
      "execution_count": 32,
      "outputs": []
    },
    {
      "cell_type": "markdown",
      "source": [
        "**making all reviews of the same length 615**"
      ],
      "metadata": {
        "id": "N8LmKYq60SX6"
      }
    },
    {
      "cell_type": "code",
      "source": [
        "%%time\n",
        "MAX_SEQUENCE_LENGTH = 615\n",
        "\n",
        "X_train = pad_sequences(tokenizer.texts_to_sequences(X_train),\n",
        "                        maxlen = MAX_SEQUENCE_LENGTH)\n",
        "X_test = pad_sequences(tokenizer.texts_to_sequences(X_test),\n",
        "                       maxlen = MAX_SEQUENCE_LENGTH)\n",
        "\n",
        "print(\"Training X Shape:\", X_train.shape)\n",
        "print(\"Testing X Shape:\", X_test.shape)"
      ],
      "metadata": {
        "id": "FDcsR7lYxl0Z",
        "colab": {
          "base_uri": "https://localhost:8080/"
        },
        "outputId": "0f909243-b1d8-474e-ab0d-947f6cfc3f24"
      },
      "execution_count": 33,
      "outputs": [
        {
          "output_type": "stream",
          "name": "stdout",
          "text": [
            "Training X Shape: (84558, 615)\n",
            "Testing X Shape: (21140, 615)\n",
            "CPU times: user 3.19 s, sys: 131 ms, total: 3.32 s\n",
            "Wall time: 3.32 s\n"
          ]
        }
      ]
    },
    {
      "cell_type": "markdown",
      "source": [
        "**Construction of the embedding matrix**"
      ],
      "metadata": {
        "id": "DiIxpGhc0tkE"
      }
    },
    {
      "cell_type": "code",
      "source": [
        "%%time\n",
        "embedding_matrix = np.zeros((vocab_size, 150))\n",
        "\n",
        "for word, i in word_index.items():\n",
        "    if word in target_word_vec :\n",
        "        embedding_vector = target_word_vec[word]\n",
        "        if embedding_vector is not None:\n",
        "            embedding_matrix[i] = embedding_vector"
      ],
      "metadata": {
        "id": "owcBaGGn2JWz",
        "colab": {
          "base_uri": "https://localhost:8080/"
        },
        "outputId": "ae37f364-506a-45ab-f1db-bf5b0f75f4ff"
      },
      "execution_count": 34,
      "outputs": [
        {
          "output_type": "stream",
          "name": "stdout",
          "text": [
            "CPU times: user 316 ms, sys: 64.1 ms, total: 380 ms\n",
            "Wall time: 381 ms\n"
          ]
        }
      ]
    },
    {
      "cell_type": "code",
      "source": [
        "embedding_matrix.shape[0] == vocab_size"
      ],
      "metadata": {
        "id": "Eqa9cn0_2JHa",
        "colab": {
          "base_uri": "https://localhost:8080/"
        },
        "outputId": "2ae0bc03-c55f-45b3-df53-36602b2a2a66"
      },
      "execution_count": 35,
      "outputs": [
        {
          "output_type": "execute_result",
          "data": {
            "text/plain": [
              "True"
            ]
          },
          "metadata": {},
          "execution_count": 35
        }
      ]
    },
    {
      "cell_type": "markdown",
      "source": [
        "**Creating the model**"
      ],
      "metadata": {
        "id": "LOqaUPgk054V"
      }
    },
    {
      "cell_type": "code",
      "source": [
        "model = Sequential()\n",
        "embedding_layer = Embedding(vocab_size, \n",
        "                            150, \n",
        "                            weights = [embedding_matrix], \n",
        "                            input_length = MAX_SEQUENCE_LENGTH, \n",
        "                            trainable=False)\n",
        "model.add(embedding_layer)\n",
        "model.add(Conv1D(filters=64, kernel_size=2, activation='relu'))\n",
        "model.add(Bidirectional(LSTM(64, dropout=0.2, return_sequences=True)))\n",
        "model.add(GlobalMaxPooling1D())\n",
        "model.add(Dropout(0.2))\n",
        "model.add(Dense(1, activation='sigmoid'))\n",
        "\n",
        "model.compile(optimizer = Adam(learning_rate=0.001), \n",
        "              loss = 'binary_crossentropy',\n",
        "              metrics = ['accuracy'])\n",
        "\n",
        "es = EarlyStopping(monitor='val_loss', mode='min', verbose=1, patience=5)\n",
        "print(model.summary())"
      ],
      "metadata": {
        "id": "m58bq44X2JDr",
        "colab": {
          "base_uri": "https://localhost:8080/"
        },
        "outputId": "6e572bd7-002d-4b84-c91d-33b47a5f64df"
      },
      "execution_count": 36,
      "outputs": [
        {
          "output_type": "stream",
          "name": "stdout",
          "text": [
            "Model: \"sequential\"\n",
            "_________________________________________________________________\n",
            " Layer (type)                Output Shape              Param #   \n",
            "=================================================================\n",
            " embedding (Embedding)       (None, 615, 150)          19810200  \n",
            "                                                                 \n",
            " conv1d (Conv1D)             (None, 614, 64)           19264     \n",
            "                                                                 \n",
            " bidirectional (Bidirectiona  (None, 614, 128)         66048     \n",
            " l)                                                              \n",
            "                                                                 \n",
            " global_max_pooling1d (Globa  (None, 128)              0         \n",
            " lMaxPooling1D)                                                  \n",
            "                                                                 \n",
            " dropout (Dropout)           (None, 128)               0         \n",
            "                                                                 \n",
            " dense (Dense)               (None, 1)                 129       \n",
            "                                                                 \n",
            "=================================================================\n",
            "Total params: 19,895,641\n",
            "Trainable params: 85,441\n",
            "Non-trainable params: 19,810,200\n",
            "_________________________________________________________________\n",
            "None\n"
          ]
        }
      ]
    },
    {
      "cell_type": "markdown",
      "source": [
        "**fitting the model to the dataset**"
      ],
      "metadata": {
        "id": "t87TTNfP0_74"
      }
    },
    {
      "cell_type": "code",
      "source": [
        "history = model.fit(X_train, y_train, validation_split=0.15, batch_size = 128, epochs=20, verbose=1, callbacks=[es])"
      ],
      "metadata": {
        "id": "gAO_1wSM2I_l",
        "colab": {
          "base_uri": "https://localhost:8080/"
        },
        "outputId": "2c740d8b-3bf0-4b07-8074-5b7611251d5e"
      },
      "execution_count": 37,
      "outputs": [
        {
          "output_type": "stream",
          "name": "stdout",
          "text": [
            "Epoch 1/20\n",
            "71/71 [==============================] - 36s 278ms/step - loss: 0.4763 - accuracy: 0.7705 - val_loss: 0.2490 - val_accuracy: 0.9096\n",
            "Epoch 2/20\n",
            "71/71 [==============================] - 19s 269ms/step - loss: 0.2275 - accuracy: 0.9195 - val_loss: 0.1933 - val_accuracy: 0.9313\n",
            "Epoch 3/20\n",
            "71/71 [==============================] - 19s 274ms/step - loss: 0.1977 - accuracy: 0.9297 - val_loss: 0.1801 - val_accuracy: 0.9359\n",
            "Epoch 4/20\n",
            "71/71 [==============================] - 20s 277ms/step - loss: 0.1851 - accuracy: 0.9346 - val_loss: 0.1695 - val_accuracy: 0.9397\n",
            "Epoch 5/20\n",
            "71/71 [==============================] - 20s 282ms/step - loss: 0.1784 - accuracy: 0.9376 - val_loss: 0.1665 - val_accuracy: 0.9406\n",
            "Epoch 6/20\n",
            "71/71 [==============================] - 20s 281ms/step - loss: 0.1718 - accuracy: 0.9404 - val_loss: 0.1613 - val_accuracy: 0.9414\n",
            "Epoch 7/20\n",
            "71/71 [==============================] - 20s 278ms/step - loss: 0.1658 - accuracy: 0.9421 - val_loss: 0.1574 - val_accuracy: 0.9445\n",
            "Epoch 8/20\n",
            "71/71 [==============================] - 20s 278ms/step - loss: 0.1623 - accuracy: 0.9438 - val_loss: 0.1530 - val_accuracy: 0.9448\n",
            "Epoch 9/20\n",
            "71/71 [==============================] - 20s 278ms/step - loss: 0.1574 - accuracy: 0.9457 - val_loss: 0.1527 - val_accuracy: 0.9458\n",
            "Epoch 10/20\n",
            "71/71 [==============================] - 20s 280ms/step - loss: 0.1537 - accuracy: 0.9469 - val_loss: 0.1504 - val_accuracy: 0.9469\n",
            "Epoch 11/20\n",
            "71/71 [==============================] - 20s 280ms/step - loss: 0.1501 - accuracy: 0.9483 - val_loss: 0.1501 - val_accuracy: 0.9466\n",
            "Epoch 12/20\n",
            "71/71 [==============================] - 20s 279ms/step - loss: 0.1478 - accuracy: 0.9490 - val_loss: 0.1475 - val_accuracy: 0.9483\n",
            "Epoch 13/20\n",
            "71/71 [==============================] - 20s 279ms/step - loss: 0.1447 - accuracy: 0.9512 - val_loss: 0.1432 - val_accuracy: 0.9498\n",
            "Epoch 14/20\n",
            "71/71 [==============================] - 20s 279ms/step - loss: 0.1430 - accuracy: 0.9511 - val_loss: 0.1427 - val_accuracy: 0.9501\n",
            "Epoch 15/20\n",
            "71/71 [==============================] - 20s 278ms/step - loss: 0.1406 - accuracy: 0.9520 - val_loss: 0.1511 - val_accuracy: 0.9463\n",
            "Epoch 16/20\n",
            "71/71 [==============================] - 20s 279ms/step - loss: 0.1419 - accuracy: 0.9513 - val_loss: 0.1588 - val_accuracy: 0.9433\n",
            "Epoch 17/20\n",
            "71/71 [==============================] - 20s 279ms/step - loss: 0.1389 - accuracy: 0.9527 - val_loss: 0.1413 - val_accuracy: 0.9502\n",
            "Epoch 18/20\n",
            "71/71 [==============================] - 20s 278ms/step - loss: 0.1362 - accuracy: 0.9540 - val_loss: 0.1449 - val_accuracy: 0.9473\n",
            "Epoch 19/20\n",
            "71/71 [==============================] - 20s 279ms/step - loss: 0.1346 - accuracy: 0.9543 - val_loss: 0.1409 - val_accuracy: 0.9504\n",
            "Epoch 20/20\n",
            "71/71 [==============================] - 20s 278ms/step - loss: 0.1315 - accuracy: 0.9559 - val_loss: 0.1381 - val_accuracy: 0.9506\n"
          ]
        }
      ]
    },
    {
      "cell_type": "markdown",
      "source": [
        "**Evaluating the model**"
      ],
      "metadata": {
        "id": "M773tQ4P1PZt"
      }
    },
    {
      "cell_type": "code",
      "source": [
        "loss_train = history.history['loss']\n",
        "loss_val = history.history['val_loss']\n",
        "epochs = range(1,21)\n",
        "plt.plot(epochs, loss_train, 'g', label='Training loss')\n",
        "plt.plot(epochs, loss_val, 'b', label='validation loss')\n",
        "plt.title('Training and Validation loss')\n",
        "plt.xlabel('Epochs')\n",
        "plt.ylabel('Loss')\n",
        "plt.legend()\n",
        "plt.show()"
      ],
      "metadata": {
        "colab": {
          "base_uri": "https://localhost:8080/",
          "height": 295
        },
        "id": "4unlgdF7jMvY",
        "outputId": "e399318d-d479-4f7d-e7ea-e019fb002e9a"
      },
      "execution_count": 38,
      "outputs": [
        {
          "output_type": "display_data",
          "data": {
            "text/plain": [
              "<Figure size 432x288 with 1 Axes>"
            ],
            "image/png": "[encoded data removed]"
          },
          "metadata": {
            "needs_background": "light"
          }
        }
      ]
    },
    {
      "cell_type": "code",
      "source": [
        "loss_train = history.history['accuracy']\n",
        "loss_val = history.history['val_accuracy']\n",
        "epochs = range(1,21)\n",
        "plt.plot(epochs, loss_train, 'g', label='Training accuracy')\n",
        "plt.plot(epochs, loss_val, 'b', label='validation accuracy')\n",
        "plt.title('Training and Validation accuracy')\n",
        "plt.xlabel('Epochs')\n",
        "plt.ylabel('Accuracy')\n",
        "plt.legend()\n",
        "plt.show()"
      ],
      "metadata": {
        "colab": {
          "base_uri": "https://localhost:8080/",
          "height": 295
        },
        "id": "pLyVcQh8jMjw",
        "outputId": "fcdc7530-c07e-4ec4-b3ce-3b320788259c"
      },
      "execution_count": 39,
      "outputs": [
        {
          "output_type": "display_data",
          "data": {
            "text/plain": [
              "<Figure size 432x288 with 1 Axes>"
            ],
            "image/png": "[encoded data removed]"
          },
          "metadata": {
            "needs_background": "light"
          }
        }
      ]
    },
    {
      "cell_type": "code",
      "source": [
        "score = model.evaluate(X_test, y_test, verbose=1)\n",
        "print(\"%s: %.2f%%\" % (model.metrics_names[1], score[1]*100))"
      ],
      "metadata": {
        "id": "t9z560Wi2I6o",
        "colab": {
          "base_uri": "https://localhost:8080/"
        },
        "outputId": "39afdde8-27d0-43ee-931e-e1a3bb8e8b72"
      },
      "execution_count": 40,
      "outputs": [
        {
          "output_type": "stream",
          "name": "stdout",
          "text": [
            "661/661 [==============================] - 12s 18ms/step - loss: 0.1436 - accuracy: 0.9493\n",
            "accuracy: 94.93%\n"
          ]
        }
      ]
    },
    {
      "cell_type": "code",
      "source": [
        "def decode_sentiment(score):\n",
        "    return 1 if score>0.5 else 0"
      ],
      "metadata": {
        "id": "VhR8wqg72I2a"
      },
      "execution_count": 41,
      "outputs": []
    },
    {
      "cell_type": "code",
      "source": [
        "scores = model.predict(X_test, verbose=1)\n",
        "\n",
        "y_pred = [decode_sentiment(x) for x in scores]"
      ],
      "metadata": {
        "id": "mKgiUmS329sV",
        "colab": {
          "base_uri": "https://localhost:8080/"
        },
        "outputId": "0a9e6dab-517c-4d7c-c27f-31a6cfb105cb"
      },
      "execution_count": 42,
      "outputs": [
        {
          "output_type": "stream",
          "name": "stdout",
          "text": [
            "661/661 [==============================] - 13s 18ms/step\n"
          ]
        }
      ]
    },
    {
      "cell_type": "code",
      "source": [
        "print(classification_report(y_test, y_pred))"
      ],
      "metadata": {
        "id": "DhC7jTvN29Wd",
        "colab": {
          "base_uri": "https://localhost:8080/"
        },
        "outputId": "5f59d91b-0d3f-4b76-c4a1-c44e19a761aa"
      },
      "execution_count": 43,
      "outputs": [
        {
          "output_type": "stream",
          "name": "stdout",
          "text": [
            "              precision    recall  f1-score   support\n",
            "\n",
            "           0       0.96      0.94      0.95     10600\n",
            "           1       0.94      0.96      0.95     10540\n",
            "\n",
            "    accuracy                           0.95     21140\n",
            "   macro avg       0.95      0.95      0.95     21140\n",
            "weighted avg       0.95      0.95      0.95     21140\n",
            "\n"
          ]
        }
      ]
    },
    {
      "cell_type": "markdown",
      "source": [
        "**function for creating confusion matrix**"
      ],
      "metadata": {
        "id": "zm1S_eVC1YQH"
      }
    },
    {
      "cell_type": "code",
      "source": [
        "def plot_confusion_matrix(cm, classes,\n",
        "                          title='Confusion matrix',\n",
        "                          cmap=plt.cm.Blues):\n",
        "    \"\"\"\n",
        "    This function prints and plots the confusion matrix.\n",
        "    Normalization can be applied by setting `normalize=True`.\n",
        "    \"\"\"\n",
        "\n",
        "    cm = cm.astype('float') / cm.sum(axis=1)[:, np.newaxis]\n",
        "\n",
        "    plt.imshow(cm, interpolation='nearest', cmap=cmap)\n",
        "    plt.title(title, fontsize=20)\n",
        "    plt.colorbar()\n",
        "    tick_marks = np.arange(len(classes))\n",
        "    plt.xticks(tick_marks, classes, fontsize=13)\n",
        "    plt.yticks(tick_marks, classes, fontsize=13)\n",
        "\n",
        "    fmt = '.2f'\n",
        "    thresh = cm.max() / 2.\n",
        "    for i, j in itertools.product(range(cm.shape[0]), range(cm.shape[1])):\n",
        "        plt.text(j, i, format(cm[i, j], fmt),\n",
        "                 horizontalalignment=\"center\",\n",
        "                 color=\"white\" if cm[i, j] > thresh else \"black\")\n",
        "\n",
        "    plt.ylabel('True label', fontsize=17)\n",
        "    plt.xlabel('Predicted label', fontsize=17)"
      ],
      "metadata": {
        "id": "C9wpCE6K29RD"
      },
      "execution_count": 44,
      "outputs": []
    },
    {
      "cell_type": "markdown",
      "source": [
        "**printing the confusion matrix**"
      ],
      "metadata": {
        "id": "WRT8-dl56eeJ"
      }
    },
    {
      "cell_type": "code",
      "source": [
        "cnf_matrix = confusion_matrix(y_test.to_list(), y_pred)\n",
        "plt.figure(figsize=(6,6))\n",
        "plot_confusion_matrix(cnf_matrix, classes=y_test.unique(), title=\"Confusion matrix\")\n",
        "plt.show()"
      ],
      "metadata": {
        "id": "wPe6GcS93STT",
        "colab": {
          "base_uri": "https://localhost:8080/",
          "height": 370
        },
        "outputId": "f30926aa-4e7d-4d9c-c06a-a0ca0cd54fb1"
      },
      "execution_count": 45,
      "outputs": [
        {
          "output_type": "display_data",
          "data": {
            "text/plain": [
              "<Figure size 432x432 with 2 Axes>"
            ],
            "image/png": "[encoded data removed]"
          },
          "metadata": {
            "needs_background": "light"
          }
        }
      ]
    }
  ],
  "metadata": {
    "colab": {
      "collapsed_sections": [],
      "name": "Sentiment Analysis - CNN_Bi-LSTM(Using HARD Dataset) -.ipynb",
      "provenance": []
    },
    "kernelspec": {
      "display_name": "Python 3",
      "name": "python3"
    },
    "language_info": {
      "name": "python"
    },
    "accelerator": "GPU"
  },
  "nbformat": 4,
  "nbformat_minor": 0
}